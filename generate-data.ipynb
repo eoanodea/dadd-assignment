{
 "cells": [
  {
   "cell_type": "code",
   "execution_count": 74,
   "metadata": {},
   "outputs": [],
   "source": [
    "import numpy as np\n",
    "import scipy.stats as st\n",
    "import networkx as nx\n",
    "import random"
   ]
  },
  {
   "cell_type": "code",
   "execution_count": 75,
   "metadata": {},
   "outputs": [
    {
     "name": "stdout",
     "output_type": "stream",
     "text": [
      "G has 100 nodes and 4950 edges\n"
     ]
    }
   ],
   "source": [
    "# Set the dimensions of the rectangular region\n",
    "region_width = 100\n",
    "region_height = 100\n",
    "\n",
    "# Set the number of points\n",
    "num_points = 100\n",
    "\n",
    "# Create an empty graph\n",
    "G = nx.Graph()\n",
    "\n",
    "# Generate random points within the rectangular region\n",
    "points = []\n",
    "for i in range(num_points):\n",
    "    x = random.randint(0, region_width)\n",
    "    y = random.randint(0, region_height)\n",
    "    dist = random.randint(1, 5)\n",
    "    points.append((x, y, dist))\n",
    "    G.add_node(i, x=x, y=y, dist=dist)\n",
    "\n",
    "# Add edges based on the distance between points and their radii\n",
    "for i in range(num_points):\n",
    "    x1, y1, dist1 = points[i]\n",
    "    for j in range(i + 1, num_points):\n",
    "        x2, y2, dist2 = points[j]\n",
    "        distance = ((x2 - x1) ** 2 + (y2 - y1) ** 2) ** 0.5\n",
    "        # if distance < dist1 + dist2:        \n",
    "        G.add_edge(i, j, dist=distance)        \n",
    "\n",
    "# Save the graph in GraphML format\n",
    "nx.write_graphml(G, \"mtsp_graph.graphml\")\n",
    "\n",
    "print (\"G has\", G.number_of_nodes(), \"nodes and\", G.number_of_edges(), \"edges\")\n"
   ]
  }
 ],
 "metadata": {
  "kernelspec": {
   "display_name": "da2023",
   "language": "python",
   "name": "python3"
  },
  "language_info": {
   "codemirror_mode": {
    "name": "ipython",
    "version": 3
   },
   "file_extension": ".py",
   "mimetype": "text/x-python",
   "name": "python",
   "nbconvert_exporter": "python",
   "pygments_lexer": "ipython3",
   "version": "3.10.9"
  },
  "orig_nbformat": 4
 },
 "nbformat": 4,
 "nbformat_minor": 2
}
